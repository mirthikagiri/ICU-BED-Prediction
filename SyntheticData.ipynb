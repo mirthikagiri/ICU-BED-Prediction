{
 "cells": [
  {
   "cell_type": "code",
   "execution_count": 10,
   "id": "8fd282ae-7a31-4910-b750-a7e3c5bacd72",
   "metadata": {},
   "outputs": [
    {
     "name": "stdout",
     "output_type": "stream",
     "text": [
      "Synthetic dataset saved successfully!\n"
     ]
    }
   ],
   "source": [
    "import pandas as pd\n",
    "import numpy as np\n",
    "\n",
    "# Set seed for reproducibility\n",
    "np.random.seed(42)\n",
    "\n",
    "# Number of rows\n",
    "rows = 1000\n",
    "\n",
    "# Generate synthetic features\n",
    "df = pd.DataFrame({\n",
    "    'Emergency Admissions': np.random.poisson(lam=20, size=rows),\n",
    "    'Scheduled Surgeries': np.random.randint(5, 25, size=rows),\n",
    "    'Current Occupancy (%)': np.random.uniform(60, 100, size=rows),\n",
    "    'Infection Index': np.random.uniform(0.1, 2.0, size=rows),\n",
    "    'Avg Stay (days)': np.random.uniform(2, 10, size=rows),\n",
    "    \"Average Monthly Patient Footfall\": np.random.randint(100, 10000, size=rows),\n",
    "    \"Ambulance Service Available\": np.random.choice([0, 1], size=rows),\n",
    "    \"Count of Ambulance\": np.random.randint(1, 10, size=rows),\n",
    "     \"Number of Beds in Emergency Wards\": np.random.randint(5, 50, size=rows),\n",
    "})\n",
    "\n",
    "# Generate target column (ICU Beds Needed)\n",
    "df['ICU Beds Required'] = (\n",
    "    df['Emergency Admissions'] * 0.5 +\n",
    "    df['Scheduled Surgeries'] * 0.3 +\n",
    "    df['Current Occupancy (%)'] * 0.2 +\n",
    "    df['Infection Index'] * 5 +\n",
    "    df['Avg Stay (days)'] * 1.2 +\n",
    "     0.5 * df[\"Number of Beds in Emergency Wards\"] +\n",
    "    0.3 * df[\"Ambulance Service Available\"] +\n",
    "    0.2 * df[\"Count of Ambulance\"] +\n",
    "    0.02 * df[\"Average Monthly Patient Footfall\"] +\n",
    "    np.random.normal(0, 3, rows)  # Adding noise\n",
    ").round().astype(int)\n",
    "\n",
    "df.head()\n",
    "df.to_csv(\"Hospital_icu_data.csv\", index=False)\n",
    "print(\"Synthetic dataset saved successfully!\")"
   ]
  },
  {
   "cell_type": "code",
   "execution_count": null,
   "id": "80e073b1-2569-44c3-a260-cbf278041ccc",
   "metadata": {},
   "outputs": [],
   "source": []
  }
 ],
 "metadata": {
  "kernelspec": {
   "display_name": "Python 3 (ipykernel)",
   "language": "python",
   "name": "python3"
  },
  "language_info": {
   "codemirror_mode": {
    "name": "ipython",
    "version": 3
   },
   "file_extension": ".py",
   "mimetype": "text/x-python",
   "name": "python",
   "nbconvert_exporter": "python",
   "pygments_lexer": "ipython3",
   "version": "3.12.4"
  }
 },
 "nbformat": 4,
 "nbformat_minor": 5
}
